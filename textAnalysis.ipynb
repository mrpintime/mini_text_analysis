{
 "cells": [
  {
   "cell_type": "markdown",
   "id": "8414fb84-645f-482c-9cd8-0f3cdc4b7df7",
   "metadata": {},
   "source": [
    "# Text Analysis mini project"
   ]
  },
  {
   "cell_type": "markdown",
   "id": "42cb2005-4a7a-4cb6-8fb9-5cb6b27558b9",
   "metadata": {},
   "source": [
    "data analysis project"
   ]
  },
  {
   "cell_type": "markdown",
   "id": "0b54c243-5559-4db3-97d5-e5608be1ee14",
   "metadata": {},
   "source": [
    "## Analyse input text with some pre-define pattern and some methodes "
   ]
  },
  {
   "cell_type": "code",
   "execution_count": 1,
   "id": "07076af4-f659-4fe1-b7e2-7fd23a507c08",
   "metadata": {},
   "outputs": [],
   "source": [
    "class Text_analyse(object):\n",
    "    \n",
    "    def __init__ (self, text):\n",
    "\n",
    "        text = text.lower()\n",
    "        text = text.replace(\"!\", \"\")\n",
    "        text = text.replace(\".\", \"\")\n",
    "        text = text.replace(\"?\", \"\")\n",
    "        text = text.replace(\",\", \"\")\n",
    "        text = text.replace(\":\", \"\")\n",
    "        # .... you can add another pattern as you wish.\n",
    "        self.final = text \n",
    "    \n",
    "    def freqAll(self):\n",
    "        \"\"\"Get all word ferquencies and store them into Dict\n",
    "        return\n",
    "        -----------------\n",
    "        dice ---> dictionary\n",
    "             a dictionary contains words and number of encounter in the input text\n",
    "        \n",
    "        \"\"\"\n",
    "        dice = {}\n",
    "        list_one = self.final.split(\" \")\n",
    "        lst = set(list_one)\n",
    "        for i in lst:\n",
    "            dice[i] = list_one.count(i)\n",
    "        return dice\n",
    "      \n",
    "    \n",
    "    def freqOf(self, word):\n",
    "        \"\"\" return ferquencies of the word in sentence\n",
    "        parameter\n",
    "        --------------------\n",
    "        word ---> string(requier)\n",
    "            word that you want to count in your text\n",
    "        \n",
    "        return\n",
    "        ---------------------\n",
    "        freq ---> integer\n",
    "            number of repetition of your input word\n",
    "        \n",
    "        \"\"\"\n",
    "        list_one = self.final.split(\" \")\n",
    "        freq = list_one.count(word) if list_one.count(word) else 0\n",
    "        return freq\n"
   ]
  },
  {
   "cell_type": "code",
   "execution_count": 2,
   "id": "c4796976-978c-41e1-8353-a90d8b1a62db",
   "metadata": {},
   "outputs": [],
   "source": [
    "my_text = \"Hello Megan, how are you? what are you doing!!!! your father said: come here and play with us.\"\n",
    "my_object = Text_analyse(my_text)"
   ]
  },
  {
   "cell_type": "code",
   "execution_count": 3,
   "id": "8eeabce1-08cb-427f-974e-8c9de99959fd",
   "metadata": {},
   "outputs": [
    {
     "data": {
      "text/plain": [
       "2"
      ]
     },
     "execution_count": 3,
     "metadata": {},
     "output_type": "execute_result"
    }
   ],
   "source": [
    "my_object.freqOf(\"are\")"
   ]
  },
  {
   "cell_type": "code",
   "execution_count": 4,
   "id": "40c2ab4f-7e25-42a4-9d15-c21b712e30b6",
   "metadata": {},
   "outputs": [
    {
     "data": {
      "text/plain": [
       "0"
      ]
     },
     "execution_count": 4,
     "metadata": {},
     "output_type": "execute_result"
    }
   ],
   "source": [
    "my_object.freqOf(\"not in text\")"
   ]
  },
  {
   "cell_type": "code",
   "execution_count": 5,
   "id": "6382bf2d-398b-4dac-a1cf-9a04751a4575",
   "metadata": {},
   "outputs": [
    {
     "data": {
      "text/plain": [
       "{'doing': 1,\n",
       " 'father': 1,\n",
       " 'hello': 1,\n",
       " 'megan': 1,\n",
       " 'come': 1,\n",
       " 'us': 1,\n",
       " 'with': 1,\n",
       " 'how': 1,\n",
       " 'your': 1,\n",
       " 'you': 2,\n",
       " 'are': 2,\n",
       " 'play': 1,\n",
       " 'said': 1,\n",
       " 'what': 1,\n",
       " 'here': 1,\n",
       " 'and': 1}"
      ]
     },
     "execution_count": 5,
     "metadata": {},
     "output_type": "execute_result"
    }
   ],
   "source": [
    "my_object.freqAll()"
   ]
  }
 ],
 "metadata": {
  "kernelspec": {
   "display_name": "Python 3 (ipykernel)",
   "language": "python",
   "name": "python3"
  },
  "language_info": {
   "codemirror_mode": {
    "name": "ipython",
    "version": 3
   },
   "file_extension": ".py",
   "mimetype": "text/x-python",
   "name": "python",
   "nbconvert_exporter": "python",
   "pygments_lexer": "ipython3",
   "version": "3.10.6"
  }
 },
 "nbformat": 4,
 "nbformat_minor": 5
}
